{
 "cells": [
  {
   "cell_type": "markdown",
   "id": "561a975f",
   "metadata": {},
   "source": [
    "#                                        Restaurant Rating Prediction"
   ]
  },
  {
   "cell_type": "code",
   "execution_count": 1,
   "id": "e3cbf252",
   "metadata": {},
   "outputs": [],
   "source": [
    "import pandas as pd\n",
    "import numpy as np\n",
    "import matplotlib.pyplot as plt\n",
    "import seaborn as sns\n",
    "%matplotlib inline\n",
    "import warnings\n",
    "warnings.filterwarnings('ignore')"
   ]
  },
  {
   "cell_type": "markdown",
   "id": "d58f8f95",
   "metadata": {},
   "source": [
    "# Loading the dataset\n"
   ]
  },
  {
   "cell_type": "code",
   "execution_count": 2,
   "id": "b6e424b3",
   "metadata": {},
   "outputs": [
    {
     "data": {
      "text/html": [
       "<div>\n",
       "<style scoped>\n",
       "    .dataframe tbody tr th:only-of-type {\n",
       "        vertical-align: middle;\n",
       "    }\n",
       "\n",
       "    .dataframe tbody tr th {\n",
       "        vertical-align: top;\n",
       "    }\n",
       "\n",
       "    .dataframe thead th {\n",
       "        text-align: right;\n",
       "    }\n",
       "</style>\n",
       "<table border=\"1\" class=\"dataframe\">\n",
       "  <thead>\n",
       "    <tr style=\"text-align: right;\">\n",
       "      <th></th>\n",
       "      <th>url</th>\n",
       "      <th>address</th>\n",
       "      <th>name</th>\n",
       "      <th>online_order</th>\n",
       "      <th>book_table</th>\n",
       "      <th>rate</th>\n",
       "      <th>votes</th>\n",
       "      <th>phone</th>\n",
       "      <th>location</th>\n",
       "      <th>rest_type</th>\n",
       "      <th>dish_liked</th>\n",
       "      <th>cuisines</th>\n",
       "      <th>approx_cost(for two people)</th>\n",
       "      <th>reviews_list</th>\n",
       "      <th>menu_item</th>\n",
       "      <th>listed_in(type)</th>\n",
       "      <th>listed_in(city)</th>\n",
       "    </tr>\n",
       "  </thead>\n",
       "  <tbody>\n",
       "    <tr>\n",
       "      <th>0</th>\n",
       "      <td>https://www.zomato.com/bangalore/jalsa-banasha...</td>\n",
       "      <td>942, 21st Main Road, 2nd Stage, Banashankari, ...</td>\n",
       "      <td>Jalsa</td>\n",
       "      <td>Yes</td>\n",
       "      <td>Yes</td>\n",
       "      <td>4.1/5</td>\n",
       "      <td>775</td>\n",
       "      <td>080 42297555\\r\\n+91 9743772233</td>\n",
       "      <td>Banashankari</td>\n",
       "      <td>Casual Dining</td>\n",
       "      <td>Pasta, Lunch Buffet, Masala Papad, Paneer Laja...</td>\n",
       "      <td>North Indian, Mughlai, Chinese</td>\n",
       "      <td>800</td>\n",
       "      <td>[('Rated 4.0', 'RATED\\n  A beautiful place to ...</td>\n",
       "      <td>[]</td>\n",
       "      <td>Buffet</td>\n",
       "      <td>Banashankari</td>\n",
       "    </tr>\n",
       "    <tr>\n",
       "      <th>1</th>\n",
       "      <td>https://www.zomato.com/bangalore/spice-elephan...</td>\n",
       "      <td>2nd Floor, 80 Feet Road, Near Big Bazaar, 6th ...</td>\n",
       "      <td>Spice Elephant</td>\n",
       "      <td>Yes</td>\n",
       "      <td>No</td>\n",
       "      <td>4.1/5</td>\n",
       "      <td>787</td>\n",
       "      <td>080 41714161</td>\n",
       "      <td>Banashankari</td>\n",
       "      <td>Casual Dining</td>\n",
       "      <td>Momos, Lunch Buffet, Chocolate Nirvana, Thai G...</td>\n",
       "      <td>Chinese, North Indian, Thai</td>\n",
       "      <td>800</td>\n",
       "      <td>[('Rated 4.0', 'RATED\\n  Had been here for din...</td>\n",
       "      <td>[]</td>\n",
       "      <td>Buffet</td>\n",
       "      <td>Banashankari</td>\n",
       "    </tr>\n",
       "    <tr>\n",
       "      <th>2</th>\n",
       "      <td>https://www.zomato.com/SanchurroBangalore?cont...</td>\n",
       "      <td>1112, Next to KIMS Medical College, 17th Cross...</td>\n",
       "      <td>San Churro Cafe</td>\n",
       "      <td>Yes</td>\n",
       "      <td>No</td>\n",
       "      <td>3.8/5</td>\n",
       "      <td>918</td>\n",
       "      <td>+91 9663487993</td>\n",
       "      <td>Banashankari</td>\n",
       "      <td>Cafe, Casual Dining</td>\n",
       "      <td>Churros, Cannelloni, Minestrone Soup, Hot Choc...</td>\n",
       "      <td>Cafe, Mexican, Italian</td>\n",
       "      <td>800</td>\n",
       "      <td>[('Rated 3.0', \"RATED\\n  Ambience is not that ...</td>\n",
       "      <td>[]</td>\n",
       "      <td>Buffet</td>\n",
       "      <td>Banashankari</td>\n",
       "    </tr>\n",
       "    <tr>\n",
       "      <th>3</th>\n",
       "      <td>https://www.zomato.com/bangalore/addhuri-udupi...</td>\n",
       "      <td>1st Floor, Annakuteera, 3rd Stage, Banashankar...</td>\n",
       "      <td>Addhuri Udupi Bhojana</td>\n",
       "      <td>No</td>\n",
       "      <td>No</td>\n",
       "      <td>3.7/5</td>\n",
       "      <td>88</td>\n",
       "      <td>+91 9620009302</td>\n",
       "      <td>Banashankari</td>\n",
       "      <td>Quick Bites</td>\n",
       "      <td>Masala Dosa</td>\n",
       "      <td>South Indian, North Indian</td>\n",
       "      <td>300</td>\n",
       "      <td>[('Rated 4.0', \"RATED\\n  Great food and proper...</td>\n",
       "      <td>[]</td>\n",
       "      <td>Buffet</td>\n",
       "      <td>Banashankari</td>\n",
       "    </tr>\n",
       "    <tr>\n",
       "      <th>4</th>\n",
       "      <td>https://www.zomato.com/bangalore/grand-village...</td>\n",
       "      <td>10, 3rd Floor, Lakshmi Associates, Gandhi Baza...</td>\n",
       "      <td>Grand Village</td>\n",
       "      <td>No</td>\n",
       "      <td>No</td>\n",
       "      <td>3.8/5</td>\n",
       "      <td>166</td>\n",
       "      <td>+91 8026612447\\r\\n+91 9901210005</td>\n",
       "      <td>Basavanagudi</td>\n",
       "      <td>Casual Dining</td>\n",
       "      <td>Panipuri, Gol Gappe</td>\n",
       "      <td>North Indian, Rajasthani</td>\n",
       "      <td>600</td>\n",
       "      <td>[('Rated 4.0', 'RATED\\n  Very good restaurant ...</td>\n",
       "      <td>[]</td>\n",
       "      <td>Buffet</td>\n",
       "      <td>Banashankari</td>\n",
       "    </tr>\n",
       "    <tr>\n",
       "      <th>...</th>\n",
       "      <td>...</td>\n",
       "      <td>...</td>\n",
       "      <td>...</td>\n",
       "      <td>...</td>\n",
       "      <td>...</td>\n",
       "      <td>...</td>\n",
       "      <td>...</td>\n",
       "      <td>...</td>\n",
       "      <td>...</td>\n",
       "      <td>...</td>\n",
       "      <td>...</td>\n",
       "      <td>...</td>\n",
       "      <td>...</td>\n",
       "      <td>...</td>\n",
       "      <td>...</td>\n",
       "      <td>...</td>\n",
       "      <td>...</td>\n",
       "    </tr>\n",
       "    <tr>\n",
       "      <th>51712</th>\n",
       "      <td>https://www.zomato.com/bangalore/best-brews-fo...</td>\n",
       "      <td>Four Points by Sheraton Bengaluru, 43/3, White...</td>\n",
       "      <td>Best Brews - Four Points by Sheraton Bengaluru...</td>\n",
       "      <td>No</td>\n",
       "      <td>No</td>\n",
       "      <td>3.6 /5</td>\n",
       "      <td>27</td>\n",
       "      <td>080 40301477</td>\n",
       "      <td>Whitefield</td>\n",
       "      <td>Bar</td>\n",
       "      <td>NaN</td>\n",
       "      <td>Continental</td>\n",
       "      <td>1,500</td>\n",
       "      <td>[('Rated 5.0', \"RATED\\n  Food and service are ...</td>\n",
       "      <td>[]</td>\n",
       "      <td>Pubs and bars</td>\n",
       "      <td>Whitefield</td>\n",
       "    </tr>\n",
       "    <tr>\n",
       "      <th>51713</th>\n",
       "      <td>https://www.zomato.com/bangalore/vinod-bar-and...</td>\n",
       "      <td>Number 10, Garudachar Palya, Mahadevapura, Whi...</td>\n",
       "      <td>Vinod Bar And Restaurant</td>\n",
       "      <td>No</td>\n",
       "      <td>No</td>\n",
       "      <td>NaN</td>\n",
       "      <td>0</td>\n",
       "      <td>+91 8197675843</td>\n",
       "      <td>Whitefield</td>\n",
       "      <td>Bar</td>\n",
       "      <td>NaN</td>\n",
       "      <td>Finger Food</td>\n",
       "      <td>600</td>\n",
       "      <td>[]</td>\n",
       "      <td>[]</td>\n",
       "      <td>Pubs and bars</td>\n",
       "      <td>Whitefield</td>\n",
       "    </tr>\n",
       "    <tr>\n",
       "      <th>51714</th>\n",
       "      <td>https://www.zomato.com/bangalore/plunge-sherat...</td>\n",
       "      <td>Sheraton Grand Bengaluru Whitefield Hotel &amp; Co...</td>\n",
       "      <td>Plunge - Sheraton Grand Bengaluru Whitefield H...</td>\n",
       "      <td>No</td>\n",
       "      <td>No</td>\n",
       "      <td>NaN</td>\n",
       "      <td>0</td>\n",
       "      <td>NaN</td>\n",
       "      <td>Whitefield</td>\n",
       "      <td>Bar</td>\n",
       "      <td>NaN</td>\n",
       "      <td>Finger Food</td>\n",
       "      <td>2,000</td>\n",
       "      <td>[]</td>\n",
       "      <td>[]</td>\n",
       "      <td>Pubs and bars</td>\n",
       "      <td>Whitefield</td>\n",
       "    </tr>\n",
       "    <tr>\n",
       "      <th>51715</th>\n",
       "      <td>https://www.zomato.com/bangalore/chime-sherato...</td>\n",
       "      <td>Sheraton Grand Bengaluru Whitefield Hotel &amp; Co...</td>\n",
       "      <td>Chime - Sheraton Grand Bengaluru Whitefield Ho...</td>\n",
       "      <td>No</td>\n",
       "      <td>Yes</td>\n",
       "      <td>4.3 /5</td>\n",
       "      <td>236</td>\n",
       "      <td>080 49652769</td>\n",
       "      <td>ITPL Main Road, Whitefield</td>\n",
       "      <td>Bar</td>\n",
       "      <td>Cocktails, Pizza, Buttermilk</td>\n",
       "      <td>Finger Food</td>\n",
       "      <td>2,500</td>\n",
       "      <td>[('Rated 4.0', 'RATED\\n  Nice and friendly pla...</td>\n",
       "      <td>[]</td>\n",
       "      <td>Pubs and bars</td>\n",
       "      <td>Whitefield</td>\n",
       "    </tr>\n",
       "    <tr>\n",
       "      <th>51716</th>\n",
       "      <td>https://www.zomato.com/bangalore/the-nest-the-...</td>\n",
       "      <td>ITPL Main Road, KIADB Export Promotion Industr...</td>\n",
       "      <td>The Nest - The Den Bengaluru</td>\n",
       "      <td>No</td>\n",
       "      <td>No</td>\n",
       "      <td>3.4 /5</td>\n",
       "      <td>13</td>\n",
       "      <td>+91 8071117272</td>\n",
       "      <td>ITPL Main Road, Whitefield</td>\n",
       "      <td>Bar, Casual Dining</td>\n",
       "      <td>NaN</td>\n",
       "      <td>Finger Food, North Indian, Continental</td>\n",
       "      <td>1,500</td>\n",
       "      <td>[('Rated 5.0', 'RATED\\n  Great ambience , look...</td>\n",
       "      <td>[]</td>\n",
       "      <td>Pubs and bars</td>\n",
       "      <td>Whitefield</td>\n",
       "    </tr>\n",
       "  </tbody>\n",
       "</table>\n",
       "<p>51717 rows × 17 columns</p>\n",
       "</div>"
      ],
      "text/plain": [
       "                                                     url  \\\n",
       "0      https://www.zomato.com/bangalore/jalsa-banasha...   \n",
       "1      https://www.zomato.com/bangalore/spice-elephan...   \n",
       "2      https://www.zomato.com/SanchurroBangalore?cont...   \n",
       "3      https://www.zomato.com/bangalore/addhuri-udupi...   \n",
       "4      https://www.zomato.com/bangalore/grand-village...   \n",
       "...                                                  ...   \n",
       "51712  https://www.zomato.com/bangalore/best-brews-fo...   \n",
       "51713  https://www.zomato.com/bangalore/vinod-bar-and...   \n",
       "51714  https://www.zomato.com/bangalore/plunge-sherat...   \n",
       "51715  https://www.zomato.com/bangalore/chime-sherato...   \n",
       "51716  https://www.zomato.com/bangalore/the-nest-the-...   \n",
       "\n",
       "                                                 address  \\\n",
       "0      942, 21st Main Road, 2nd Stage, Banashankari, ...   \n",
       "1      2nd Floor, 80 Feet Road, Near Big Bazaar, 6th ...   \n",
       "2      1112, Next to KIMS Medical College, 17th Cross...   \n",
       "3      1st Floor, Annakuteera, 3rd Stage, Banashankar...   \n",
       "4      10, 3rd Floor, Lakshmi Associates, Gandhi Baza...   \n",
       "...                                                  ...   \n",
       "51712  Four Points by Sheraton Bengaluru, 43/3, White...   \n",
       "51713  Number 10, Garudachar Palya, Mahadevapura, Whi...   \n",
       "51714  Sheraton Grand Bengaluru Whitefield Hotel & Co...   \n",
       "51715  Sheraton Grand Bengaluru Whitefield Hotel & Co...   \n",
       "51716  ITPL Main Road, KIADB Export Promotion Industr...   \n",
       "\n",
       "                                                    name online_order  \\\n",
       "0                                                  Jalsa          Yes   \n",
       "1                                         Spice Elephant          Yes   \n",
       "2                                        San Churro Cafe          Yes   \n",
       "3                                  Addhuri Udupi Bhojana           No   \n",
       "4                                          Grand Village           No   \n",
       "...                                                  ...          ...   \n",
       "51712  Best Brews - Four Points by Sheraton Bengaluru...           No   \n",
       "51713                           Vinod Bar And Restaurant           No   \n",
       "51714  Plunge - Sheraton Grand Bengaluru Whitefield H...           No   \n",
       "51715  Chime - Sheraton Grand Bengaluru Whitefield Ho...           No   \n",
       "51716                       The Nest - The Den Bengaluru           No   \n",
       "\n",
       "      book_table    rate  votes                             phone  \\\n",
       "0            Yes   4.1/5    775    080 42297555\\r\\n+91 9743772233   \n",
       "1             No   4.1/5    787                      080 41714161   \n",
       "2             No   3.8/5    918                    +91 9663487993   \n",
       "3             No   3.7/5     88                    +91 9620009302   \n",
       "4             No   3.8/5    166  +91 8026612447\\r\\n+91 9901210005   \n",
       "...          ...     ...    ...                               ...   \n",
       "51712         No  3.6 /5     27                      080 40301477   \n",
       "51713         No     NaN      0                    +91 8197675843   \n",
       "51714         No     NaN      0                               NaN   \n",
       "51715        Yes  4.3 /5    236                      080 49652769   \n",
       "51716         No  3.4 /5     13                    +91 8071117272   \n",
       "\n",
       "                         location            rest_type  \\\n",
       "0                    Banashankari        Casual Dining   \n",
       "1                    Banashankari        Casual Dining   \n",
       "2                    Banashankari  Cafe, Casual Dining   \n",
       "3                    Banashankari          Quick Bites   \n",
       "4                    Basavanagudi        Casual Dining   \n",
       "...                           ...                  ...   \n",
       "51712                  Whitefield                  Bar   \n",
       "51713                  Whitefield                  Bar   \n",
       "51714                  Whitefield                  Bar   \n",
       "51715  ITPL Main Road, Whitefield                  Bar   \n",
       "51716  ITPL Main Road, Whitefield   Bar, Casual Dining   \n",
       "\n",
       "                                              dish_liked  \\\n",
       "0      Pasta, Lunch Buffet, Masala Papad, Paneer Laja...   \n",
       "1      Momos, Lunch Buffet, Chocolate Nirvana, Thai G...   \n",
       "2      Churros, Cannelloni, Minestrone Soup, Hot Choc...   \n",
       "3                                            Masala Dosa   \n",
       "4                                    Panipuri, Gol Gappe   \n",
       "...                                                  ...   \n",
       "51712                                                NaN   \n",
       "51713                                                NaN   \n",
       "51714                                                NaN   \n",
       "51715                       Cocktails, Pizza, Buttermilk   \n",
       "51716                                                NaN   \n",
       "\n",
       "                                     cuisines approx_cost(for two people)  \\\n",
       "0              North Indian, Mughlai, Chinese                         800   \n",
       "1                 Chinese, North Indian, Thai                         800   \n",
       "2                      Cafe, Mexican, Italian                         800   \n",
       "3                  South Indian, North Indian                         300   \n",
       "4                    North Indian, Rajasthani                         600   \n",
       "...                                       ...                         ...   \n",
       "51712                             Continental                       1,500   \n",
       "51713                             Finger Food                         600   \n",
       "51714                             Finger Food                       2,000   \n",
       "51715                             Finger Food                       2,500   \n",
       "51716  Finger Food, North Indian, Continental                       1,500   \n",
       "\n",
       "                                            reviews_list menu_item  \\\n",
       "0      [('Rated 4.0', 'RATED\\n  A beautiful place to ...        []   \n",
       "1      [('Rated 4.0', 'RATED\\n  Had been here for din...        []   \n",
       "2      [('Rated 3.0', \"RATED\\n  Ambience is not that ...        []   \n",
       "3      [('Rated 4.0', \"RATED\\n  Great food and proper...        []   \n",
       "4      [('Rated 4.0', 'RATED\\n  Very good restaurant ...        []   \n",
       "...                                                  ...       ...   \n",
       "51712  [('Rated 5.0', \"RATED\\n  Food and service are ...        []   \n",
       "51713                                                 []        []   \n",
       "51714                                                 []        []   \n",
       "51715  [('Rated 4.0', 'RATED\\n  Nice and friendly pla...        []   \n",
       "51716  [('Rated 5.0', 'RATED\\n  Great ambience , look...        []   \n",
       "\n",
       "      listed_in(type) listed_in(city)  \n",
       "0              Buffet    Banashankari  \n",
       "1              Buffet    Banashankari  \n",
       "2              Buffet    Banashankari  \n",
       "3              Buffet    Banashankari  \n",
       "4              Buffet    Banashankari  \n",
       "...               ...             ...  \n",
       "51712   Pubs and bars      Whitefield  \n",
       "51713   Pubs and bars      Whitefield  \n",
       "51714   Pubs and bars      Whitefield  \n",
       "51715   Pubs and bars      Whitefield  \n",
       "51716   Pubs and bars      Whitefield  \n",
       "\n",
       "[51717 rows x 17 columns]"
      ]
     },
     "execution_count": 2,
     "metadata": {},
     "output_type": "execute_result"
    }
   ],
   "source": [
    "df = pd.read_csv(\"zomato.csv\")\n",
    "df"
   ]
  },
  {
   "cell_type": "markdown",
   "id": "50de4bad",
   "metadata": {},
   "source": [
    "# Data Analysis"
   ]
  },
  {
   "cell_type": "code",
   "execution_count": 3,
   "id": "7c16f5b9",
   "metadata": {},
   "outputs": [
    {
     "data": {
      "text/html": [
       "<div>\n",
       "<style scoped>\n",
       "    .dataframe tbody tr th:only-of-type {\n",
       "        vertical-align: middle;\n",
       "    }\n",
       "\n",
       "    .dataframe tbody tr th {\n",
       "        vertical-align: top;\n",
       "    }\n",
       "\n",
       "    .dataframe thead th {\n",
       "        text-align: right;\n",
       "    }\n",
       "</style>\n",
       "<table border=\"1\" class=\"dataframe\">\n",
       "  <thead>\n",
       "    <tr style=\"text-align: right;\">\n",
       "      <th></th>\n",
       "      <th>url</th>\n",
       "      <th>address</th>\n",
       "      <th>name</th>\n",
       "      <th>online_order</th>\n",
       "      <th>book_table</th>\n",
       "      <th>rate</th>\n",
       "      <th>votes</th>\n",
       "      <th>phone</th>\n",
       "      <th>location</th>\n",
       "      <th>rest_type</th>\n",
       "      <th>dish_liked</th>\n",
       "      <th>cuisines</th>\n",
       "      <th>approx_cost(for two people)</th>\n",
       "      <th>reviews_list</th>\n",
       "      <th>menu_item</th>\n",
       "      <th>listed_in(type)</th>\n",
       "      <th>listed_in(city)</th>\n",
       "    </tr>\n",
       "  </thead>\n",
       "  <tbody>\n",
       "    <tr>\n",
       "      <th>0</th>\n",
       "      <td>https://www.zomato.com/bangalore/jalsa-banasha...</td>\n",
       "      <td>942, 21st Main Road, 2nd Stage, Banashankari, ...</td>\n",
       "      <td>Jalsa</td>\n",
       "      <td>Yes</td>\n",
       "      <td>Yes</td>\n",
       "      <td>4.1/5</td>\n",
       "      <td>775</td>\n",
       "      <td>080 42297555\\r\\n+91 9743772233</td>\n",
       "      <td>Banashankari</td>\n",
       "      <td>Casual Dining</td>\n",
       "      <td>Pasta, Lunch Buffet, Masala Papad, Paneer Laja...</td>\n",
       "      <td>North Indian, Mughlai, Chinese</td>\n",
       "      <td>800</td>\n",
       "      <td>[('Rated 4.0', 'RATED\\n  A beautiful place to ...</td>\n",
       "      <td>[]</td>\n",
       "      <td>Buffet</td>\n",
       "      <td>Banashankari</td>\n",
       "    </tr>\n",
       "    <tr>\n",
       "      <th>1</th>\n",
       "      <td>https://www.zomato.com/bangalore/spice-elephan...</td>\n",
       "      <td>2nd Floor, 80 Feet Road, Near Big Bazaar, 6th ...</td>\n",
       "      <td>Spice Elephant</td>\n",
       "      <td>Yes</td>\n",
       "      <td>No</td>\n",
       "      <td>4.1/5</td>\n",
       "      <td>787</td>\n",
       "      <td>080 41714161</td>\n",
       "      <td>Banashankari</td>\n",
       "      <td>Casual Dining</td>\n",
       "      <td>Momos, Lunch Buffet, Chocolate Nirvana, Thai G...</td>\n",
       "      <td>Chinese, North Indian, Thai</td>\n",
       "      <td>800</td>\n",
       "      <td>[('Rated 4.0', 'RATED\\n  Had been here for din...</td>\n",
       "      <td>[]</td>\n",
       "      <td>Buffet</td>\n",
       "      <td>Banashankari</td>\n",
       "    </tr>\n",
       "    <tr>\n",
       "      <th>2</th>\n",
       "      <td>https://www.zomato.com/SanchurroBangalore?cont...</td>\n",
       "      <td>1112, Next to KIMS Medical College, 17th Cross...</td>\n",
       "      <td>San Churro Cafe</td>\n",
       "      <td>Yes</td>\n",
       "      <td>No</td>\n",
       "      <td>3.8/5</td>\n",
       "      <td>918</td>\n",
       "      <td>+91 9663487993</td>\n",
       "      <td>Banashankari</td>\n",
       "      <td>Cafe, Casual Dining</td>\n",
       "      <td>Churros, Cannelloni, Minestrone Soup, Hot Choc...</td>\n",
       "      <td>Cafe, Mexican, Italian</td>\n",
       "      <td>800</td>\n",
       "      <td>[('Rated 3.0', \"RATED\\n  Ambience is not that ...</td>\n",
       "      <td>[]</td>\n",
       "      <td>Buffet</td>\n",
       "      <td>Banashankari</td>\n",
       "    </tr>\n",
       "    <tr>\n",
       "      <th>3</th>\n",
       "      <td>https://www.zomato.com/bangalore/addhuri-udupi...</td>\n",
       "      <td>1st Floor, Annakuteera, 3rd Stage, Banashankar...</td>\n",
       "      <td>Addhuri Udupi Bhojana</td>\n",
       "      <td>No</td>\n",
       "      <td>No</td>\n",
       "      <td>3.7/5</td>\n",
       "      <td>88</td>\n",
       "      <td>+91 9620009302</td>\n",
       "      <td>Banashankari</td>\n",
       "      <td>Quick Bites</td>\n",
       "      <td>Masala Dosa</td>\n",
       "      <td>South Indian, North Indian</td>\n",
       "      <td>300</td>\n",
       "      <td>[('Rated 4.0', \"RATED\\n  Great food and proper...</td>\n",
       "      <td>[]</td>\n",
       "      <td>Buffet</td>\n",
       "      <td>Banashankari</td>\n",
       "    </tr>\n",
       "    <tr>\n",
       "      <th>4</th>\n",
       "      <td>https://www.zomato.com/bangalore/grand-village...</td>\n",
       "      <td>10, 3rd Floor, Lakshmi Associates, Gandhi Baza...</td>\n",
       "      <td>Grand Village</td>\n",
       "      <td>No</td>\n",
       "      <td>No</td>\n",
       "      <td>3.8/5</td>\n",
       "      <td>166</td>\n",
       "      <td>+91 8026612447\\r\\n+91 9901210005</td>\n",
       "      <td>Basavanagudi</td>\n",
       "      <td>Casual Dining</td>\n",
       "      <td>Panipuri, Gol Gappe</td>\n",
       "      <td>North Indian, Rajasthani</td>\n",
       "      <td>600</td>\n",
       "      <td>[('Rated 4.0', 'RATED\\n  Very good restaurant ...</td>\n",
       "      <td>[]</td>\n",
       "      <td>Buffet</td>\n",
       "      <td>Banashankari</td>\n",
       "    </tr>\n",
       "  </tbody>\n",
       "</table>\n",
       "</div>"
      ],
      "text/plain": [
       "                                                 url  \\\n",
       "0  https://www.zomato.com/bangalore/jalsa-banasha...   \n",
       "1  https://www.zomato.com/bangalore/spice-elephan...   \n",
       "2  https://www.zomato.com/SanchurroBangalore?cont...   \n",
       "3  https://www.zomato.com/bangalore/addhuri-udupi...   \n",
       "4  https://www.zomato.com/bangalore/grand-village...   \n",
       "\n",
       "                                             address                   name  \\\n",
       "0  942, 21st Main Road, 2nd Stage, Banashankari, ...                  Jalsa   \n",
       "1  2nd Floor, 80 Feet Road, Near Big Bazaar, 6th ...         Spice Elephant   \n",
       "2  1112, Next to KIMS Medical College, 17th Cross...        San Churro Cafe   \n",
       "3  1st Floor, Annakuteera, 3rd Stage, Banashankar...  Addhuri Udupi Bhojana   \n",
       "4  10, 3rd Floor, Lakshmi Associates, Gandhi Baza...          Grand Village   \n",
       "\n",
       "  online_order book_table   rate  votes                             phone  \\\n",
       "0          Yes        Yes  4.1/5    775    080 42297555\\r\\n+91 9743772233   \n",
       "1          Yes         No  4.1/5    787                      080 41714161   \n",
       "2          Yes         No  3.8/5    918                    +91 9663487993   \n",
       "3           No         No  3.7/5     88                    +91 9620009302   \n",
       "4           No         No  3.8/5    166  +91 8026612447\\r\\n+91 9901210005   \n",
       "\n",
       "       location            rest_type  \\\n",
       "0  Banashankari        Casual Dining   \n",
       "1  Banashankari        Casual Dining   \n",
       "2  Banashankari  Cafe, Casual Dining   \n",
       "3  Banashankari          Quick Bites   \n",
       "4  Basavanagudi        Casual Dining   \n",
       "\n",
       "                                          dish_liked  \\\n",
       "0  Pasta, Lunch Buffet, Masala Papad, Paneer Laja...   \n",
       "1  Momos, Lunch Buffet, Chocolate Nirvana, Thai G...   \n",
       "2  Churros, Cannelloni, Minestrone Soup, Hot Choc...   \n",
       "3                                        Masala Dosa   \n",
       "4                                Panipuri, Gol Gappe   \n",
       "\n",
       "                         cuisines approx_cost(for two people)  \\\n",
       "0  North Indian, Mughlai, Chinese                         800   \n",
       "1     Chinese, North Indian, Thai                         800   \n",
       "2          Cafe, Mexican, Italian                         800   \n",
       "3      South Indian, North Indian                         300   \n",
       "4        North Indian, Rajasthani                         600   \n",
       "\n",
       "                                        reviews_list menu_item  \\\n",
       "0  [('Rated 4.0', 'RATED\\n  A beautiful place to ...        []   \n",
       "1  [('Rated 4.0', 'RATED\\n  Had been here for din...        []   \n",
       "2  [('Rated 3.0', \"RATED\\n  Ambience is not that ...        []   \n",
       "3  [('Rated 4.0', \"RATED\\n  Great food and proper...        []   \n",
       "4  [('Rated 4.0', 'RATED\\n  Very good restaurant ...        []   \n",
       "\n",
       "  listed_in(type) listed_in(city)  \n",
       "0          Buffet    Banashankari  \n",
       "1          Buffet    Banashankari  \n",
       "2          Buffet    Banashankari  \n",
       "3          Buffet    Banashankari  \n",
       "4          Buffet    Banashankari  "
      ]
     },
     "execution_count": 3,
     "metadata": {},
     "output_type": "execute_result"
    }
   ],
   "source": [
    "df.head() # prints the first 5 rows of a DataFrame"
   ]
  },
  {
   "cell_type": "code",
   "execution_count": 4,
   "id": "870a2fcd",
   "metadata": {},
   "outputs": [
    {
     "data": {
      "text/plain": [
       "Index(['url', 'address', 'name', 'online_order', 'book_table', 'rate', 'votes',\n",
       "       'phone', 'location', 'rest_type', 'dish_liked', 'cuisines',\n",
       "       'approx_cost(for two people)', 'reviews_list', 'menu_item',\n",
       "       'listed_in(type)', 'listed_in(city)'],\n",
       "      dtype='object')"
      ]
     },
     "execution_count": 4,
     "metadata": {},
     "output_type": "execute_result"
    }
   ],
   "source": [
    "df.columns # give name of all the columns in the dataset "
   ]
  },
  {
   "cell_type": "code",
   "execution_count": 5,
   "id": "309575ec",
   "metadata": {},
   "outputs": [
    {
     "data": {
      "text/plain": [
       "(51717, 17)"
      ]
     },
     "execution_count": 5,
     "metadata": {},
     "output_type": "execute_result"
    }
   ],
   "source": [
    "df.shape # give number of rows and columns"
   ]
  },
  {
   "cell_type": "markdown",
   "id": "3ba1b0f5",
   "metadata": {},
   "source": [
    "- there are total 51717 samples with 17 features."
   ]
  },
  {
   "cell_type": "code",
   "execution_count": 6,
   "id": "6b728de4",
   "metadata": {},
   "outputs": [
    {
     "name": "stdout",
     "output_type": "stream",
     "text": [
      "<class 'pandas.core.frame.DataFrame'>\n",
      "RangeIndex: 51717 entries, 0 to 51716\n",
      "Data columns (total 17 columns):\n",
      " #   Column                       Non-Null Count  Dtype \n",
      "---  ------                       --------------  ----- \n",
      " 0   url                          51717 non-null  object\n",
      " 1   address                      51717 non-null  object\n",
      " 2   name                         51717 non-null  object\n",
      " 3   online_order                 51717 non-null  object\n",
      " 4   book_table                   51717 non-null  object\n",
      " 5   rate                         43942 non-null  object\n",
      " 6   votes                        51717 non-null  int64 \n",
      " 7   phone                        50509 non-null  object\n",
      " 8   location                     51696 non-null  object\n",
      " 9   rest_type                    51490 non-null  object\n",
      " 10  dish_liked                   23639 non-null  object\n",
      " 11  cuisines                     51672 non-null  object\n",
      " 12  approx_cost(for two people)  51371 non-null  object\n",
      " 13  reviews_list                 51717 non-null  object\n",
      " 14  menu_item                    51717 non-null  object\n",
      " 15  listed_in(type)              51717 non-null  object\n",
      " 16  listed_in(city)              51717 non-null  object\n",
      "dtypes: int64(1), object(16)\n",
      "memory usage: 6.7+ MB\n"
     ]
    }
   ],
   "source": [
    "df.info() # Looking at the information about the dataset, datatypes of the coresponding columns and missing values"
   ]
  },
  {
   "cell_type": "code",
   "execution_count": 7,
   "id": "887ed266",
   "metadata": {},
   "outputs": [
    {
     "data": {
      "text/plain": [
       "url                            object\n",
       "address                        object\n",
       "name                           object\n",
       "online_order                   object\n",
       "book_table                     object\n",
       "rate                           object\n",
       "votes                           int64\n",
       "phone                          object\n",
       "location                       object\n",
       "rest_type                      object\n",
       "dish_liked                     object\n",
       "cuisines                       object\n",
       "approx_cost(for two people)    object\n",
       "reviews_list                   object\n",
       "menu_item                      object\n",
       "listed_in(type)                object\n",
       "listed_in(city)                object\n",
       "dtype: object"
      ]
     },
     "execution_count": 7,
     "metadata": {},
     "output_type": "execute_result"
    }
   ],
   "source": [
    "df.dtypes #datatypes of column"
   ]
  },
  {
   "cell_type": "markdown",
   "id": "7a589174",
   "metadata": {},
   "source": [
    "# Data Cleaning or EDA (Exploratory Data Analysis)\n",
    "##### Data Cleaning:\n",
    "1. Deleting redundant columns.\n",
    "2. Renaming the columns.\n",
    "3. Dropping duplicates.\n",
    "4. Cleaning individual columns.\n",
    "5. Remove the NaN values from the dataset\n",
    "6. Some Transformations"
   ]
  },
  {
   "cell_type": "markdown",
   "id": "a1f309c0",
   "metadata": {},
   "source": [
    "##### Deleting Unnnecessary Columns"
   ]
  },
  {
   "cell_type": "code",
   "execution_count": 8,
   "id": "8bab5993",
   "metadata": {},
   "outputs": [
    {
     "data": {
      "text/html": [
       "<div>\n",
       "<style scoped>\n",
       "    .dataframe tbody tr th:only-of-type {\n",
       "        vertical-align: middle;\n",
       "    }\n",
       "\n",
       "    .dataframe tbody tr th {\n",
       "        vertical-align: top;\n",
       "    }\n",
       "\n",
       "    .dataframe thead th {\n",
       "        text-align: right;\n",
       "    }\n",
       "</style>\n",
       "<table border=\"1\" class=\"dataframe\">\n",
       "  <thead>\n",
       "    <tr style=\"text-align: right;\">\n",
       "      <th></th>\n",
       "      <th>name</th>\n",
       "      <th>online_order</th>\n",
       "      <th>book_table</th>\n",
       "      <th>rate</th>\n",
       "      <th>votes</th>\n",
       "      <th>location</th>\n",
       "      <th>rest_type</th>\n",
       "      <th>cuisines</th>\n",
       "      <th>approx_cost(for two people)</th>\n",
       "      <th>listed_in(type)</th>\n",
       "      <th>listed_in(city)</th>\n",
       "    </tr>\n",
       "  </thead>\n",
       "  <tbody>\n",
       "    <tr>\n",
       "      <th>0</th>\n",
       "      <td>Jalsa</td>\n",
       "      <td>Yes</td>\n",
       "      <td>Yes</td>\n",
       "      <td>4.1/5</td>\n",
       "      <td>775</td>\n",
       "      <td>Banashankari</td>\n",
       "      <td>Casual Dining</td>\n",
       "      <td>North Indian, Mughlai, Chinese</td>\n",
       "      <td>800</td>\n",
       "      <td>Buffet</td>\n",
       "      <td>Banashankari</td>\n",
       "    </tr>\n",
       "    <tr>\n",
       "      <th>1</th>\n",
       "      <td>Spice Elephant</td>\n",
       "      <td>Yes</td>\n",
       "      <td>No</td>\n",
       "      <td>4.1/5</td>\n",
       "      <td>787</td>\n",
       "      <td>Banashankari</td>\n",
       "      <td>Casual Dining</td>\n",
       "      <td>Chinese, North Indian, Thai</td>\n",
       "      <td>800</td>\n",
       "      <td>Buffet</td>\n",
       "      <td>Banashankari</td>\n",
       "    </tr>\n",
       "    <tr>\n",
       "      <th>2</th>\n",
       "      <td>San Churro Cafe</td>\n",
       "      <td>Yes</td>\n",
       "      <td>No</td>\n",
       "      <td>3.8/5</td>\n",
       "      <td>918</td>\n",
       "      <td>Banashankari</td>\n",
       "      <td>Cafe, Casual Dining</td>\n",
       "      <td>Cafe, Mexican, Italian</td>\n",
       "      <td>800</td>\n",
       "      <td>Buffet</td>\n",
       "      <td>Banashankari</td>\n",
       "    </tr>\n",
       "    <tr>\n",
       "      <th>3</th>\n",
       "      <td>Addhuri Udupi Bhojana</td>\n",
       "      <td>No</td>\n",
       "      <td>No</td>\n",
       "      <td>3.7/5</td>\n",
       "      <td>88</td>\n",
       "      <td>Banashankari</td>\n",
       "      <td>Quick Bites</td>\n",
       "      <td>South Indian, North Indian</td>\n",
       "      <td>300</td>\n",
       "      <td>Buffet</td>\n",
       "      <td>Banashankari</td>\n",
       "    </tr>\n",
       "    <tr>\n",
       "      <th>4</th>\n",
       "      <td>Grand Village</td>\n",
       "      <td>No</td>\n",
       "      <td>No</td>\n",
       "      <td>3.8/5</td>\n",
       "      <td>166</td>\n",
       "      <td>Basavanagudi</td>\n",
       "      <td>Casual Dining</td>\n",
       "      <td>North Indian, Rajasthani</td>\n",
       "      <td>600</td>\n",
       "      <td>Buffet</td>\n",
       "      <td>Banashankari</td>\n",
       "    </tr>\n",
       "  </tbody>\n",
       "</table>\n",
       "</div>"
      ],
      "text/plain": [
       "                    name online_order book_table   rate  votes      location  \\\n",
       "0                  Jalsa          Yes        Yes  4.1/5    775  Banashankari   \n",
       "1         Spice Elephant          Yes         No  4.1/5    787  Banashankari   \n",
       "2        San Churro Cafe          Yes         No  3.8/5    918  Banashankari   \n",
       "3  Addhuri Udupi Bhojana           No         No  3.7/5     88  Banashankari   \n",
       "4          Grand Village           No         No  3.8/5    166  Basavanagudi   \n",
       "\n",
       "             rest_type                        cuisines  \\\n",
       "0        Casual Dining  North Indian, Mughlai, Chinese   \n",
       "1        Casual Dining     Chinese, North Indian, Thai   \n",
       "2  Cafe, Casual Dining          Cafe, Mexican, Italian   \n",
       "3          Quick Bites      South Indian, North Indian   \n",
       "4        Casual Dining        North Indian, Rajasthani   \n",
       "\n",
       "  approx_cost(for two people) listed_in(type) listed_in(city)  \n",
       "0                         800          Buffet    Banashankari  \n",
       "1                         800          Buffet    Banashankari  \n",
       "2                         800          Buffet    Banashankari  \n",
       "3                         300          Buffet    Banashankari  \n",
       "4                         600          Buffet    Banashankari  "
      ]
     },
     "execution_count": 8,
     "metadata": {},
     "output_type": "execute_result"
    }
   ],
   "source": [
    "#Dropping the column \"dish_liked\", \"phone\", \"url\", 'reviews_list','address','menu_item' and saving the new dataset as \"data\"\n",
    "\n",
    "df=df.drop(['url','phone','reviews_list','address','menu_item', 'dish_liked'],axis=1) \n",
    "df.head()"
   ]
  },
  {
   "cell_type": "markdown",
   "id": "b0891f7f",
   "metadata": {},
   "source": [
    "##### Null Value Analysis\n"
   ]
  },
  {
   "cell_type": "code",
   "execution_count": 9,
   "id": "1433af5f",
   "metadata": {},
   "outputs": [
    {
     "name": "stdout",
     "output_type": "stream",
     "text": [
      "Null Value Percentage:\n",
      "name                            0.000000\n",
      "online_order                    0.000000\n",
      "book_table                      0.000000\n",
      "rate                           15.033741\n",
      "votes                           0.000000\n",
      "location                        0.040606\n",
      "rest_type                       0.438927\n",
      "cuisines                        0.087012\n",
      "approx_cost(for two people)     0.669026\n",
      "listed_in(type)                 0.000000\n",
      "listed_in(city)                 0.000000\n",
      "dtype: float64\n"
     ]
    }
   ],
   "source": [
    "# Calculate percentage of null values in each column\n",
    "null_percentage = (df.isnull().sum() / len(df)) * 100\n",
    "\n",
    "# Display null percentage\n",
    "print(\"Null Value Percentage:\")\n",
    "print(null_percentage)"
   ]
  },
  {
   "cell_type": "code",
   "execution_count": 10,
   "id": "68feb611",
   "metadata": {},
   "outputs": [
    {
     "data": {
      "text/plain": [
       "name                              0\n",
       "online_order                      0\n",
       "book_table                        0\n",
       "rate                           7775\n",
       "votes                             0\n",
       "location                         21\n",
       "rest_type                       227\n",
       "cuisines                         45\n",
       "approx_cost(for two people)     346\n",
       "listed_in(type)                   0\n",
       "listed_in(city)                   0\n",
       "dtype: int64"
      ]
     },
     "execution_count": 10,
     "metadata": {},
     "output_type": "execute_result"
    }
   ],
   "source": [
    "df.isnull().sum() # give number of missing values variables have."
   ]
  },
  {
   "cell_type": "markdown",
   "id": "b51e87b1",
   "metadata": {},
   "source": [
    "- we can clearly see that in the  '__rate__','__location__','__rest_type__', '__cuisines__' and '__approx_cost(for two people)__' there are null values .So, firstly we have to handle the missing values."
   ]
  },
  {
   "cell_type": "code",
   "execution_count": 11,
   "id": "b8d02cb7",
   "metadata": {},
   "outputs": [
    {
     "data": {
      "text/plain": [
       "['rate', 'location', 'rest_type', 'cuisines', 'approx_cost(for two people)']"
      ]
     },
     "execution_count": 11,
     "metadata": {},
     "output_type": "execute_result"
    }
   ],
   "source": [
    "# to get name of columns with null values more than 0\n",
    "\n",
    "[features for features in df.columns if df[features].isnull().sum()>0] "
   ]
  },
  {
   "cell_type": "markdown",
   "id": "542da637",
   "metadata": {},
   "source": [
    "##### Remove the NaN values from the dataset"
   ]
  },
  {
   "cell_type": "code",
   "execution_count": 12,
   "id": "bf8e8acc",
   "metadata": {},
   "outputs": [
    {
     "name": "stdout",
     "output_type": "stream",
     "text": [
      "name                              0\n",
      "online_order                      0\n",
      "book_table                        0\n",
      "rate                           7775\n",
      "votes                             0\n",
      "location                         21\n",
      "rest_type                       227\n",
      "cuisines                         45\n",
      "approx_cost(for two people)     346\n",
      "listed_in(type)                   0\n",
      "listed_in(city)                   0\n",
      "dtype: int64\n"
     ]
    }
   ],
   "source": [
    "data = df.copy(deep = True)\n",
    "#data['rate'] = data['rate'].replace(0,np.NaN)\n",
    "print(data.isnull().sum())"
   ]
  },
  {
   "cell_type": "markdown",
   "id": "4c720d28",
   "metadata": {},
   "source": [
    "##### Handling the 'Rating' column"
   ]
  },
  {
   "cell_type": "code",
   "execution_count": 13,
   "id": "bb4a9740",
   "metadata": {},
   "outputs": [
    {
     "data": {
      "text/plain": [
       "array(['4.1/5', '3.8/5', '3.7/5', '3.6/5', '4.6/5', '4.0/5', '4.2/5',\n",
       "       '3.9/5', '3.1/5', '3.0/5', '3.2/5', '3.3/5', '2.8/5', '4.4/5',\n",
       "       '4.3/5', 'NEW', '2.9/5', '3.5/5', nan, '2.6/5', '3.8 /5', '3.4/5',\n",
       "       '4.5/5', '2.5/5', '2.7/5', '4.7/5', '2.4/5', '2.2/5', '2.3/5',\n",
       "       '3.4 /5', '-', '3.6 /5', '4.8/5', '3.9 /5', '4.2 /5', '4.0 /5',\n",
       "       '4.1 /5', '3.7 /5', '3.1 /5', '2.9 /5', '3.3 /5', '2.8 /5',\n",
       "       '3.5 /5', '2.7 /5', '2.5 /5', '3.2 /5', '2.6 /5', '4.5 /5',\n",
       "       '4.3 /5', '4.4 /5', '4.9/5', '2.1/5', '2.0/5', '1.8/5', '4.6 /5',\n",
       "       '4.9 /5', '3.0 /5', '4.8 /5', '2.3 /5', '4.7 /5', '2.4 /5',\n",
       "       '2.1 /5', '2.2 /5', '2.0 /5', '1.8 /5'], dtype=object)"
      ]
     },
     "execution_count": 13,
     "metadata": {},
     "output_type": "execute_result"
    }
   ],
   "source": [
    "data['rate'].unique()"
   ]
  },
  {
   "cell_type": "markdown",
   "id": "6bb667de",
   "metadata": {},
   "source": [
    "- here rating column also string type. we have to convert them into numeric type. we have to remove the '/5' from given values. there is 'NEW' and - value which makes no sense. So, we have to remove that value."
   ]
  },
  {
   "cell_type": "code",
   "execution_count": 14,
   "id": "a9ab8157",
   "metadata": {},
   "outputs": [],
   "source": [
    "data=data.loc[data.rate != 'NEW'] # geting rid of 'NEW'"
   ]
  },
  {
   "cell_type": "code",
   "execution_count": 15,
   "id": "ff3177c7",
   "metadata": {},
   "outputs": [],
   "source": [
    "data= data.loc[data.rate != '-']"
   ]
  },
  {
   "cell_type": "code",
   "execution_count": 16,
   "id": "793cb700",
   "metadata": {},
   "outputs": [],
   "source": [
    "data['rate'] = data['rate'].dropna().apply(lambda x: float(x.split('/')[0]) if (len(x)>3) else np.nan)"
   ]
  },
  {
   "cell_type": "code",
   "execution_count": 17,
   "id": "d7d53d9c",
   "metadata": {},
   "outputs": [
    {
     "data": {
      "text/plain": [
       "array([4.1       , 3.8       , 3.7       , 3.6       , 4.6       ,\n",
       "       4.        , 4.2       , 3.9       , 3.1       , 3.        ,\n",
       "       3.2       , 3.3       , 2.8       , 4.4       , 4.3       ,\n",
       "       2.9       , 3.5       , 3.70044882, 2.6       , 3.4       ,\n",
       "       4.5       , 2.5       , 2.7       , 4.7       , 2.4       ,\n",
       "       2.2       , 2.3       , 4.8       , 4.9       , 2.1       ,\n",
       "       2.        , 1.8       ])"
      ]
     },
     "execution_count": 17,
     "metadata": {},
     "output_type": "execute_result"
    }
   ],
   "source": [
    "data['rate'].fillna(data['rate'].mean(),inplace=True)\n",
    "data['rate'].unique()"
   ]
  },
  {
   "cell_type": "code",
   "execution_count": 18,
   "id": "c9765a32",
   "metadata": {},
   "outputs": [
    {
     "data": {
      "text/plain": [
       "name                           0\n",
       "online_order                   0\n",
       "book_table                     0\n",
       "rate                           0\n",
       "votes                          0\n",
       "location                       0\n",
       "rest_type                      0\n",
       "cuisines                       0\n",
       "approx_cost(for two people)    0\n",
       "listed_in(type)                0\n",
       "listed_in(city)                0\n",
       "dtype: int64"
      ]
     },
     "execution_count": 18,
     "metadata": {},
     "output_type": "execute_result"
    }
   ],
   "source": [
    "# Drop rows with any null values from the DataFrame 'data' and modify it in place\n",
    "data.dropna(inplace=True) \n",
    "\n",
    "data.isnull().sum()"
   ]
  },
  {
   "cell_type": "markdown",
   "id": "bde1a77c",
   "metadata": {},
   "source": [
    "- Now there is no null value"
   ]
  },
  {
   "cell_type": "markdown",
   "id": "dc78423f",
   "metadata": {},
   "source": [
    "##### Changing The Columns Names"
   ]
  },
  {
   "cell_type": "code",
   "execution_count": 19,
   "id": "add3518a",
   "metadata": {},
   "outputs": [
    {
     "data": {
      "text/plain": [
       "Index(['Name', 'online_order', 'book_table', 'Rating', 'votes', 'location',\n",
       "       'rest_type', 'Cuisines', 'Cost', 'Type', 'City'],\n",
       "      dtype='object')"
      ]
     },
     "execution_count": 19,
     "metadata": {},
     "output_type": "execute_result"
    }
   ],
   "source": [
    "data = data.rename(columns={'name':'Name',\n",
    "        'address':'Address',\n",
    "        'rate':\"Rating\",\n",
    "        'cuisines':\"Cuisines\", \n",
    "        'approx_cost(for two people)':\"Cost\", \n",
    "        'listed_in(type)':\"Type\",\n",
    "        'listed_in(city)':\"City\"})\n",
    "data.columns"
   ]
  },
  {
   "cell_type": "markdown",
   "id": "aa2f76a4",
   "metadata": {},
   "source": [
    "##### Cleaning the \"cost\" column"
   ]
  },
  {
   "cell_type": "code",
   "execution_count": 20,
   "id": "bcbf4b73",
   "metadata": {},
   "outputs": [
    {
     "data": {
      "text/plain": [
       "array(['800', '300', '600', '700', '550', '500', '450', '650', '400',\n",
       "       '900', '200', '750', '150', '850', '100', '1,200', '350', '250',\n",
       "       '950', '1,000', '1,500', '1,300', '199', '1,100', '1,600', '230',\n",
       "       '130', '80', '50', '190', '1,700', '180', '1,350', '2,200',\n",
       "       '1,400', '2,000', '1,800', '1,900', '330', '2,500', '2,100',\n",
       "       '3,000', '2,800', '3,400', '40', '1,250', '3,500', '4,000',\n",
       "       '2,400', '2,600', '120', '1,450', '469', '70', '3,200', '60',\n",
       "       '240', '6,000', '1,050', '2,300', '4,100', '5,000', '3,700',\n",
       "       '1,650', '2,700', '4,500', '140', '360'], dtype=object)"
      ]
     },
     "execution_count": 20,
     "metadata": {},
     "output_type": "execute_result"
    }
   ],
   "source": [
    "data['Cost'].unique() # gives unique values in cost column"
   ]
  },
  {
   "cell_type": "markdown",
   "id": "4faf84ec",
   "metadata": {},
   "source": [
    "- here we can see that data point is string type and some values like 1,200, ,2,500, 5,000 6,000 etc have commas(,). we have  to remove that ',' from the values and we have convert them into numeric type."
   ]
  },
  {
   "cell_type": "code",
   "execution_count": 21,
   "id": "c9000c9b",
   "metadata": {},
   "outputs": [],
   "source": [
    "# Remove commas and spaces from the 'Cost' column and then convert to float\n",
    "data['Cost'] = data['Cost'].str.replace(\",\", \"\").str.replace(\" \", \"\").astype(float)"
   ]
  },
  {
   "cell_type": "code",
   "execution_count": 22,
   "id": "70bb5ebc",
   "metadata": {},
   "outputs": [
    {
     "data": {
      "text/plain": [
       "array([ 800.,  300.,  600.,  700.,  550.,  500.,  450.,  650.,  400.,\n",
       "        900.,  200.,  750.,  150.,  850.,  100., 1200.,  350.,  250.,\n",
       "        950., 1000., 1500., 1300.,  199., 1100., 1600.,  230.,  130.,\n",
       "         80.,   50.,  190., 1700.,  180., 1350., 2200., 1400., 2000.,\n",
       "       1800., 1900.,  330., 2500., 2100., 3000., 2800., 3400.,   40.,\n",
       "       1250., 3500., 4000., 2400., 2600.,  120., 1450.,  469.,   70.,\n",
       "       3200.,   60.,  240., 6000., 1050., 2300., 4100., 5000., 3700.,\n",
       "       1650., 2700., 4500.,  140.,  360.])"
      ]
     },
     "execution_count": 22,
     "metadata": {},
     "output_type": "execute_result"
    }
   ],
   "source": [
    "data['Cost'].unique()"
   ]
  },
  {
   "cell_type": "code",
   "execution_count": 23,
   "id": "ff77e91b",
   "metadata": {},
   "outputs": [
    {
     "name": "stdout",
     "output_type": "stream",
     "text": [
      "<class 'pandas.core.frame.DataFrame'>\n",
      "Int64Index: 48878 entries, 0 to 51716\n",
      "Data columns (total 11 columns):\n",
      " #   Column        Non-Null Count  Dtype  \n",
      "---  ------        --------------  -----  \n",
      " 0   Name          48878 non-null  object \n",
      " 1   online_order  48878 non-null  object \n",
      " 2   book_table    48878 non-null  object \n",
      " 3   Rating        48878 non-null  float64\n",
      " 4   votes         48878 non-null  int64  \n",
      " 5   location      48878 non-null  object \n",
      " 6   rest_type     48878 non-null  object \n",
      " 7   Cuisines      48878 non-null  object \n",
      " 8   Cost          48878 non-null  float64\n",
      " 9   Type          48878 non-null  object \n",
      " 10  City          48878 non-null  object \n",
      "dtypes: float64(2), int64(1), object(8)\n",
      "memory usage: 4.5+ MB\n"
     ]
    }
   ],
   "source": [
    "data.info()"
   ]
  },
  {
   "cell_type": "markdown",
   "id": "49e13fa5",
   "metadata": {},
   "source": [
    "- Now sucessfully we converted the values into numeric type"
   ]
  },
  {
   "cell_type": "code",
   "execution_count": 24,
   "id": "be30d7ba",
   "metadata": {},
   "outputs": [],
   "source": [
    "data.online_order[data.online_order == 'Yes'] = 1 \n",
    "data.online_order[data.online_order == 'No'] = 0\n",
    "\n",
    "data.book_table[data.book_table == 'Yes'] = 1 \n",
    "data.book_table[data.book_table == 'No'] = 0\n",
    "\n",
    "data.online_order = pd.to_numeric(data.online_order)\n",
    "data.book_table = pd.to_numeric(data.book_table)"
   ]
  },
  {
   "cell_type": "markdown",
   "id": "640f1464",
   "metadata": {},
   "source": [
    "##### Removing the Duplicates"
   ]
  },
  {
   "cell_type": "code",
   "execution_count": 25,
   "id": "7d88e3e8",
   "metadata": {},
   "outputs": [
    {
     "data": {
      "text/plain": [
       "93"
      ]
     },
     "execution_count": 25,
     "metadata": {},
     "output_type": "execute_result"
    }
   ],
   "source": [
    "# Calculate the number of duplicated rows in the DataFrame 'data' and return the sum\n",
    "data.duplicated().sum() "
   ]
  },
  {
   "cell_type": "code",
   "execution_count": 26,
   "id": "293ed84b",
   "metadata": {},
   "outputs": [],
   "source": [
    "data.drop_duplicates(inplace=True)"
   ]
  },
  {
   "cell_type": "code",
   "execution_count": 27,
   "id": "8bca8249",
   "metadata": {},
   "outputs": [
    {
     "data": {
      "text/plain": [
       "(48785, 11)"
      ]
     },
     "execution_count": 27,
     "metadata": {},
     "output_type": "execute_result"
    }
   ],
   "source": [
    "data.shape"
   ]
  },
  {
   "cell_type": "markdown",
   "id": "a183dab8",
   "metadata": {},
   "source": [
    "# Data  Visualization"
   ]
  },
  {
   "cell_type": "markdown",
   "id": "8d3fa9e5",
   "metadata": {},
   "source": [
    "##### Most famous restaurant chains in banaglore"
   ]
  },
  {
   "cell_type": "code",
   "execution_count": 28,
   "id": "e0b93902",
   "metadata": {},
   "outputs": [
    {
     "data": {
      "image/png": "[encoded data removed]",
      "text/plain": [
       "<Figure size 1700x1000 with 1 Axes>"
      ]
     },
     "metadata": {},
     "output_type": "display_data"
    }
   ],
   "source": [
    "plt.figure(figsize = (17,10))\n",
    "chains = data['Name'].value_counts()[:20]\n",
    "sns.barplot(x = chains, y= chains.index,  palette= 'deep')\n",
    "plt.title('Most famous restaurants chains in bangalore')\n",
    "plt.xlabel('Number of outlets')\n",
    "plt.show()"
   ]
  },
  {
   "cell_type": "markdown",
   "id": "fb88d999",
   "metadata": {},
   "source": [
    "Insights:\n",
    "\n",
    "- __'Onesta'__, __'Empire Restaurant'__ & __'Cafe Coffee Day'__  are the most famous restaurant in bangalore."
   ]
  },
  {
   "cell_type": "markdown",
   "id": "b50d08aa",
   "metadata": {},
   "source": [
    "##### Rating Distribution"
   ]
  },
  {
   "cell_type": "code",
   "execution_count": 29,
   "id": "a9dbfdd4",
   "metadata": {},
   "outputs": [
    {
     "data": {
      "text/plain": [
       "Text(0.5, 1.0, 'Rating Distribution')"
      ]
     },
     "execution_count": 29,
     "metadata": {},
     "output_type": "execute_result"
    },
    {
     "data": {
      "image/png": "[encoded data removed]",
      "text/plain": [
       "<Figure size 600x500 with 1 Axes>"
      ]
     },
     "metadata": {},
     "output_type": "display_data"
    }
   ],
   "source": [
    "plt.figure(figsize = (6,5))\n",
    "sns.distplot(data[\"Rating\"])\n",
    "plt.title('Rating Distribution')"
   ]
  },
  {
   "cell_type": "markdown",
   "id": "8d07c1b3",
   "metadata": {},
   "source": [
    "__Insight:__\n",
    "\n",
    "- We can infer from above that most of the ratings are within 3.5 and 4.0"
   ]
  },
  {
   "cell_type": "markdown",
   "id": "e7a39f62",
   "metadata": {},
   "source": [
    "##### Restaurant Types"
   ]
  },
  {
   "cell_type": "code",
   "execution_count": 30,
   "id": "f82eadf8",
   "metadata": {},
   "outputs": [
    {
     "data": {
      "image/png": "[encoded data removed]",
      "text/plain": [
       "<Figure size 900x300 with 1 Axes>"
      ]
     },
     "metadata": {},
     "output_type": "display_data"
    }
   ],
   "source": [
    "plt.figure(figsize = (9,3))\n",
    "t = data['Type'].value_counts()\n",
    "sns.barplot(y = t.index ,x = t, palette = 'Paired')\n",
    "plt.title('Restaurant Type')\n",
    "plt.show()"
   ]
  },
  {
   "cell_type": "markdown",
   "id": "1718c08d",
   "metadata": {},
   "source": [
    "__Insight:__\n",
    "\n",
    "- 'Delivery', 'Dine-out', 'Desserts' are the most common types of  restaurant.\n",
    "- \"Pubs and bars \",\"Buffet\", 'Drinks&nightlife' are the least common. "
   ]
  },
  {
   "cell_type": "code",
   "execution_count": 31,
   "id": "e3e86ab3",
   "metadata": {},
   "outputs": [
    {
     "data": {
      "image/png": "[encoded data removed]",
      "text/plain": [
       "<Figure size 1000x500 with 1 Axes>"
      ]
     },
     "metadata": {},
     "output_type": "display_data"
    }
   ],
   "source": [
    "v = data['Cuisines'].value_counts()[:15]\n",
    "plt.figure(figsize = (10,5))\n",
    "\n",
    "ax  = sns.barplot(x = v.index, y = v, palette = 'Paired')\n",
    "\n",
    "plt.title('Most popular cuisines of Bangalore', fontsize = 20)\n",
    "plt.xlabel('Cuisines', fontsize = 15)\n",
    "plt.ylabel('Frequency', fontsize = 15)\n",
    "plt.xticks(rotation =90)\n",
    "plt.show()"
   ]
  },
  {
   "cell_type": "markdown",
   "id": "4076da51",
   "metadata": {},
   "source": [
    "Insights:\n",
    "\n",
    "- Here from above we can see that __'North Indian Cuisines'__ are most famous in Bangalore restaurants."
   ]
  },
  {
   "cell_type": "markdown",
   "id": "511bc609",
   "metadata": {},
   "source": [
    "#####  Distribution of Cost of Food for two People\n"
   ]
  },
  {
   "cell_type": "code",
   "execution_count": 32,
   "id": "d9618e3f",
   "metadata": {},
   "outputs": [
    {
     "data": {
      "image/png": "[encoded data removed]",
      "text/plain": [
       "<Figure size 2000x800 with 1 Axes>"
      ]
     },
     "metadata": {},
     "output_type": "display_data"
    }
   ],
   "source": [
    "#contains the approximate cost of meal for two people\n",
    "v = data['Cost'].value_counts()\n",
    "plt.figure(figsize = (20,8))\n",
    "\n",
    "sns.barplot(x = v.index, y = v, palette = 'rainbow')\n",
    "plt.xticks(rotation=90)\n",
    "plt.show()"
   ]
  },
  {
   "cell_type": "markdown",
   "id": "54a8a96e",
   "metadata": {},
   "source": [
    "# Data Preprocessing"
   ]
  },
  {
   "cell_type": "code",
   "execution_count": 41,
   "id": "ee155234",
   "metadata": {},
   "outputs": [],
   "source": [
    "from sklearn.preprocessing import LabelEncoder\n",
    "le = LabelEncoder()\n",
    "data.Type = le.fit_transform(data.Type)\n",
    "data.rest_type = le.fit_transform(data.rest_type)\n",
    "data.Cuisines = le.fit_transform(data.Cuisines)\n",
    "data.book_table = le.fit_transform(data.book_table)\n",
    "data.location = le.fit_transform(data.location)\n",
    "data.City = le.fit_transform(data.City)"
   ]
  },
  {
   "cell_type": "code",
   "execution_count": 42,
   "id": "78bf00a2",
   "metadata": {},
   "outputs": [
    {
     "data": {
      "text/html": [
       "<div>\n",
       "<style scoped>\n",
       "    .dataframe tbody tr th:only-of-type {\n",
       "        vertical-align: middle;\n",
       "    }\n",
       "\n",
       "    .dataframe tbody tr th {\n",
       "        vertical-align: top;\n",
       "    }\n",
       "\n",
       "    .dataframe thead th {\n",
       "        text-align: right;\n",
       "    }\n",
       "</style>\n",
       "<table border=\"1\" class=\"dataframe\">\n",
       "  <thead>\n",
       "    <tr style=\"text-align: right;\">\n",
       "      <th></th>\n",
       "      <th>Name</th>\n",
       "      <th>online_order</th>\n",
       "      <th>book_table</th>\n",
       "      <th>Rating</th>\n",
       "      <th>votes</th>\n",
       "      <th>location</th>\n",
       "      <th>rest_type</th>\n",
       "      <th>Cuisines</th>\n",
       "      <th>Cost</th>\n",
       "      <th>Type</th>\n",
       "      <th>City</th>\n",
       "    </tr>\n",
       "  </thead>\n",
       "  <tbody>\n",
       "    <tr>\n",
       "      <th>0</th>\n",
       "      <td>Jalsa</td>\n",
       "      <td>1</td>\n",
       "      <td>1</td>\n",
       "      <td>4.1</td>\n",
       "      <td>775</td>\n",
       "      <td>1</td>\n",
       "      <td>27</td>\n",
       "      <td>2075</td>\n",
       "      <td>800.0</td>\n",
       "      <td>0</td>\n",
       "      <td>1</td>\n",
       "    </tr>\n",
       "    <tr>\n",
       "      <th>1</th>\n",
       "      <td>Spice Elephant</td>\n",
       "      <td>1</td>\n",
       "      <td>0</td>\n",
       "      <td>4.1</td>\n",
       "      <td>787</td>\n",
       "      <td>1</td>\n",
       "      <td>27</td>\n",
       "      <td>917</td>\n",
       "      <td>800.0</td>\n",
       "      <td>0</td>\n",
       "      <td>1</td>\n",
       "    </tr>\n",
       "  </tbody>\n",
       "</table>\n",
       "</div>"
      ],
      "text/plain": [
       "             Name  online_order  book_table  Rating  votes  location  \\\n",
       "0           Jalsa             1           1     4.1    775         1   \n",
       "1  Spice Elephant             1           0     4.1    787         1   \n",
       "\n",
       "   rest_type  Cuisines   Cost  Type  City  \n",
       "0         27      2075  800.0     0     1  \n",
       "1         27       917  800.0     0     1  "
      ]
     },
     "execution_count": 42,
     "metadata": {},
     "output_type": "execute_result"
    }
   ],
   "source": [
    "data.head(n=2)"
   ]
  },
  {
   "cell_type": "code",
   "execution_count": 43,
   "id": "437cf19b",
   "metadata": {},
   "outputs": [
    {
     "data": {
      "text/html": [
       "<div>\n",
       "<style scoped>\n",
       "    .dataframe tbody tr th:only-of-type {\n",
       "        vertical-align: middle;\n",
       "    }\n",
       "\n",
       "    .dataframe tbody tr th {\n",
       "        vertical-align: top;\n",
       "    }\n",
       "\n",
       "    .dataframe thead th {\n",
       "        text-align: right;\n",
       "    }\n",
       "</style>\n",
       "<table border=\"1\" class=\"dataframe\">\n",
       "  <thead>\n",
       "    <tr style=\"text-align: right;\">\n",
       "      <th></th>\n",
       "      <th>online_order</th>\n",
       "      <th>book_table</th>\n",
       "      <th>Rating</th>\n",
       "      <th>votes</th>\n",
       "      <th>location</th>\n",
       "      <th>rest_type</th>\n",
       "      <th>Cuisines</th>\n",
       "      <th>Cost</th>\n",
       "      <th>Type</th>\n",
       "      <th>City</th>\n",
       "    </tr>\n",
       "  </thead>\n",
       "  <tbody>\n",
       "    <tr>\n",
       "      <th>0</th>\n",
       "      <td>1</td>\n",
       "      <td>1</td>\n",
       "      <td>4.1</td>\n",
       "      <td>775</td>\n",
       "      <td>1</td>\n",
       "      <td>27</td>\n",
       "      <td>2075</td>\n",
       "      <td>800.0</td>\n",
       "      <td>0</td>\n",
       "      <td>1</td>\n",
       "    </tr>\n",
       "    <tr>\n",
       "      <th>1</th>\n",
       "      <td>1</td>\n",
       "      <td>0</td>\n",
       "      <td>4.1</td>\n",
       "      <td>787</td>\n",
       "      <td>1</td>\n",
       "      <td>27</td>\n",
       "      <td>917</td>\n",
       "      <td>800.0</td>\n",
       "      <td>0</td>\n",
       "      <td>1</td>\n",
       "    </tr>\n",
       "    <tr>\n",
       "      <th>2</th>\n",
       "      <td>1</td>\n",
       "      <td>0</td>\n",
       "      <td>3.8</td>\n",
       "      <td>918</td>\n",
       "      <td>1</td>\n",
       "      <td>22</td>\n",
       "      <td>738</td>\n",
       "      <td>800.0</td>\n",
       "      <td>0</td>\n",
       "      <td>1</td>\n",
       "    </tr>\n",
       "    <tr>\n",
       "      <th>3</th>\n",
       "      <td>0</td>\n",
       "      <td>0</td>\n",
       "      <td>3.7</td>\n",
       "      <td>88</td>\n",
       "      <td>1</td>\n",
       "      <td>78</td>\n",
       "      <td>2451</td>\n",
       "      <td>300.0</td>\n",
       "      <td>0</td>\n",
       "      <td>1</td>\n",
       "    </tr>\n",
       "    <tr>\n",
       "      <th>4</th>\n",
       "      <td>0</td>\n",
       "      <td>0</td>\n",
       "      <td>3.8</td>\n",
       "      <td>166</td>\n",
       "      <td>4</td>\n",
       "      <td>27</td>\n",
       "      <td>2103</td>\n",
       "      <td>600.0</td>\n",
       "      <td>0</td>\n",
       "      <td>1</td>\n",
       "    </tr>\n",
       "  </tbody>\n",
       "</table>\n",
       "</div>"
      ],
      "text/plain": [
       "   online_order  book_table  Rating  votes  location  rest_type  Cuisines  \\\n",
       "0             1           1     4.1    775         1         27      2075   \n",
       "1             1           0     4.1    787         1         27       917   \n",
       "2             1           0     3.8    918         1         22       738   \n",
       "3             0           0     3.7     88         1         78      2451   \n",
       "4             0           0     3.8    166         4         27      2103   \n",
       "\n",
       "    Cost  Type  City  \n",
       "0  800.0     0     1  \n",
       "1  800.0     0     1  \n",
       "2  800.0     0     1  \n",
       "3  300.0     0     1  \n",
       "4  600.0     0     1  "
      ]
     },
     "execution_count": 43,
     "metadata": {},
     "output_type": "execute_result"
    }
   ],
   "source": [
    "my_data=data.iloc[:,[1,2,3,4,5,6,7,8,9,10]]\n",
    "my_data.to_csv('display.csv')\n",
    "my_data.head()"
   ]
  },
  {
   "cell_type": "markdown",
   "id": "21f0012e",
   "metadata": {},
   "source": [
    "# Data Modeling"
   ]
  },
  {
   "cell_type": "code",
   "execution_count": 44,
   "id": "fec418d5",
   "metadata": {},
   "outputs": [],
   "source": [
    "x = data.iloc[:,[1,2,4,5,6,7,9,10]]\n",
    "y = data['Rating']"
   ]
  },
  {
   "cell_type": "markdown",
   "id": "e7bf1e32",
   "metadata": {},
   "source": [
    "##### Splitting data into train and test set"
   ]
  },
  {
   "cell_type": "code",
   "execution_count": 45,
   "id": "2daea766",
   "metadata": {},
   "outputs": [],
   "source": [
    "from sklearn.model_selection import train_test_split\n",
    "xtrain,xtest,ytrain,ytest=train_test_split(x,y,test_size=.3,random_state=10)"
   ]
  },
  {
   "cell_type": "code",
   "execution_count": 46,
   "id": "774afd9e",
   "metadata": {},
   "outputs": [
    {
     "data": {
      "text/html": [
       "<div>\n",
       "<style scoped>\n",
       "    .dataframe tbody tr th:only-of-type {\n",
       "        vertical-align: middle;\n",
       "    }\n",
       "\n",
       "    .dataframe tbody tr th {\n",
       "        vertical-align: top;\n",
       "    }\n",
       "\n",
       "    .dataframe thead th {\n",
       "        text-align: right;\n",
       "    }\n",
       "</style>\n",
       "<table border=\"1\" class=\"dataframe\">\n",
       "  <thead>\n",
       "    <tr style=\"text-align: right;\">\n",
       "      <th></th>\n",
       "      <th>online_order</th>\n",
       "      <th>book_table</th>\n",
       "      <th>votes</th>\n",
       "      <th>location</th>\n",
       "      <th>rest_type</th>\n",
       "      <th>Cuisines</th>\n",
       "      <th>Type</th>\n",
       "      <th>City</th>\n",
       "    </tr>\n",
       "  </thead>\n",
       "  <tbody>\n",
       "    <tr>\n",
       "      <th>9171</th>\n",
       "      <td>1</td>\n",
       "      <td>0</td>\n",
       "      <td>421</td>\n",
       "      <td>3</td>\n",
       "      <td>27</td>\n",
       "      <td>945</td>\n",
       "      <td>2</td>\n",
       "      <td>0</td>\n",
       "    </tr>\n",
       "    <tr>\n",
       "      <th>44640</th>\n",
       "      <td>0</td>\n",
       "      <td>0</td>\n",
       "      <td>18</td>\n",
       "      <td>60</td>\n",
       "      <td>78</td>\n",
       "      <td>506</td>\n",
       "      <td>4</td>\n",
       "      <td>24</td>\n",
       "    </tr>\n",
       "    <tr>\n",
       "      <th>38928</th>\n",
       "      <td>1</td>\n",
       "      <td>0</td>\n",
       "      <td>227</td>\n",
       "      <td>52</td>\n",
       "      <td>78</td>\n",
       "      <td>526</td>\n",
       "      <td>4</td>\n",
       "      <td>20</td>\n",
       "    </tr>\n",
       "    <tr>\n",
       "      <th>23331</th>\n",
       "      <td>0</td>\n",
       "      <td>0</td>\n",
       "      <td>5</td>\n",
       "      <td>29</td>\n",
       "      <td>78</td>\n",
       "      <td>2263</td>\n",
       "      <td>4</td>\n",
       "      <td>12</td>\n",
       "    </tr>\n",
       "    <tr>\n",
       "      <th>39337</th>\n",
       "      <td>1</td>\n",
       "      <td>1</td>\n",
       "      <td>1239</td>\n",
       "      <td>81</td>\n",
       "      <td>28</td>\n",
       "      <td>213</td>\n",
       "      <td>5</td>\n",
       "      <td>20</td>\n",
       "    </tr>\n",
       "    <tr>\n",
       "      <th>...</th>\n",
       "      <td>...</td>\n",
       "      <td>...</td>\n",
       "      <td>...</td>\n",
       "      <td>...</td>\n",
       "      <td>...</td>\n",
       "      <td>...</td>\n",
       "      <td>...</td>\n",
       "      <td>...</td>\n",
       "    </tr>\n",
       "    <tr>\n",
       "      <th>42581</th>\n",
       "      <td>1</td>\n",
       "      <td>0</td>\n",
       "      <td>84</td>\n",
       "      <td>27</td>\n",
       "      <td>40</td>\n",
       "      <td>1452</td>\n",
       "      <td>2</td>\n",
       "      <td>21</td>\n",
       "    </tr>\n",
       "    <tr>\n",
       "      <th>29890</th>\n",
       "      <td>1</td>\n",
       "      <td>0</td>\n",
       "      <td>10</td>\n",
       "      <td>16</td>\n",
       "      <td>78</td>\n",
       "      <td>2364</td>\n",
       "      <td>2</td>\n",
       "      <td>17</td>\n",
       "    </tr>\n",
       "    <tr>\n",
       "      <th>31149</th>\n",
       "      <td>0</td>\n",
       "      <td>0</td>\n",
       "      <td>34</td>\n",
       "      <td>45</td>\n",
       "      <td>65</td>\n",
       "      <td>1777</td>\n",
       "      <td>4</td>\n",
       "      <td>17</td>\n",
       "    </tr>\n",
       "    <tr>\n",
       "      <th>42583</th>\n",
       "      <td>1</td>\n",
       "      <td>0</td>\n",
       "      <td>43</td>\n",
       "      <td>27</td>\n",
       "      <td>78</td>\n",
       "      <td>1749</td>\n",
       "      <td>2</td>\n",
       "      <td>21</td>\n",
       "    </tr>\n",
       "    <tr>\n",
       "      <th>18930</th>\n",
       "      <td>0</td>\n",
       "      <td>0</td>\n",
       "      <td>122</td>\n",
       "      <td>27</td>\n",
       "      <td>78</td>\n",
       "      <td>1317</td>\n",
       "      <td>4</td>\n",
       "      <td>11</td>\n",
       "    </tr>\n",
       "  </tbody>\n",
       "</table>\n",
       "<p>34149 rows × 8 columns</p>\n",
       "</div>"
      ],
      "text/plain": [
       "       online_order  book_table  votes  location  rest_type  Cuisines  Type  \\\n",
       "9171              1           0    421         3         27       945     2   \n",
       "44640             0           0     18        60         78       506     4   \n",
       "38928             1           0    227        52         78       526     4   \n",
       "23331             0           0      5        29         78      2263     4   \n",
       "39337             1           1   1239        81         28       213     5   \n",
       "...             ...         ...    ...       ...        ...       ...   ...   \n",
       "42581             1           0     84        27         40      1452     2   \n",
       "29890             1           0     10        16         78      2364     2   \n",
       "31149             0           0     34        45         65      1777     4   \n",
       "42583             1           0     43        27         78      1749     2   \n",
       "18930             0           0    122        27         78      1317     4   \n",
       "\n",
       "       City  \n",
       "9171      0  \n",
       "44640    24  \n",
       "38928    20  \n",
       "23331    12  \n",
       "39337    20  \n",
       "...     ...  \n",
       "42581    21  \n",
       "29890    17  \n",
       "31149    17  \n",
       "42583    21  \n",
       "18930    11  \n",
       "\n",
       "[34149 rows x 8 columns]"
      ]
     },
     "execution_count": 46,
     "metadata": {},
     "output_type": "execute_result"
    }
   ],
   "source": [
    "xtrain"
   ]
  },
  {
   "cell_type": "code",
   "execution_count": 47,
   "id": "7f33fbf6",
   "metadata": {},
   "outputs": [
    {
     "data": {
      "text/plain": [
       "9171     4.2\n",
       "44640    3.6\n",
       "38928    4.4\n",
       "23331    3.3\n",
       "39337    4.5\n",
       "        ... \n",
       "42581    3.9\n",
       "29890    3.4\n",
       "31149    3.7\n",
       "42583    3.2\n",
       "18930    3.2\n",
       "Name: Rating, Length: 34149, dtype: float64"
      ]
     },
     "execution_count": 47,
     "metadata": {},
     "output_type": "execute_result"
    }
   ],
   "source": [
    "ytrain"
   ]
  },
  {
   "cell_type": "markdown",
   "id": "8ad4f49e",
   "metadata": {},
   "source": [
    "#### Linear Regression\n"
   ]
  },
  {
   "cell_type": "code",
   "execution_count": 48,
   "id": "a8f0cf5c",
   "metadata": {},
   "outputs": [
    {
     "name": "stdout",
     "output_type": "stream",
     "text": [
      "0.2708214502334336\n"
     ]
    }
   ],
   "source": [
    "from sklearn.linear_model import LinearRegression\n",
    "lr = LinearRegression()\n",
    "lr.fit(xtrain,ytrain)\n",
    "\n",
    "#predict the test set\n",
    "ypred = lr.predict(xtest)\n",
    "\n",
    "## Evaluate the model\n",
    "from sklearn.metrics import r2_score\n",
    "print(r2_score(ytest, ypred))"
   ]
  },
  {
   "cell_type": "markdown",
   "id": "62e736d2",
   "metadata": {},
   "source": [
    "#### Decision Tree Regression"
   ]
  },
  {
   "cell_type": "code",
   "execution_count": 49,
   "id": "cd1a5121",
   "metadata": {},
   "outputs": [
    {
     "name": "stdout",
     "output_type": "stream",
     "text": [
      "0.805237877279019\n"
     ]
    }
   ],
   "source": [
    "from sklearn.tree import DecisionTreeRegressor\n",
    "dtr = DecisionTreeRegressor()\n",
    "dtr.fit(xtrain,ytrain)\n",
    "\n",
    "#predict the test set\n",
    "ypred = dtr.predict(xtest)\n",
    "\n",
    "## Evaluate the model\n",
    "from sklearn.metrics import r2_score\n",
    "print(r2_score(ytest, ypred))\n"
   ]
  },
  {
   "cell_type": "markdown",
   "id": "698cb734",
   "metadata": {},
   "source": [
    "#### Random Forest Regressor"
   ]
  },
  {
   "cell_type": "code",
   "execution_count": 50,
   "id": "5e20f087",
   "metadata": {},
   "outputs": [
    {
     "name": "stdout",
     "output_type": "stream",
     "text": [
      "0.8816134772990369\n"
     ]
    }
   ],
   "source": [
    "from sklearn.ensemble import RandomForestRegressor\n",
    "model = RandomForestRegressor()\n",
    "model.fit(xtrain,ytrain)\n",
    "\n",
    "#predict the test set\n",
    "ypred = model.predict(xtest)\n",
    "\n",
    "## Evaluate the model\n",
    "from sklearn.metrics import r2_score\n",
    "print(r2_score(ytest, ypred))"
   ]
  },
  {
   "cell_type": "code",
   "execution_count": 51,
   "id": "ffea4e56",
   "metadata": {},
   "outputs": [
    {
     "name": "stdout",
     "output_type": "stream",
     "text": [
      "Mean Absolute Error: 0.06696374487553904\n",
      "Mean Squared Error: 0.019190823640285692\n",
      "Root Mean Squared Error: 0.1385309483122298\n"
     ]
    }
   ],
   "source": [
    "from sklearn import metrics\n",
    "\n",
    "print('Mean Absolute Error:', metrics.mean_absolute_error(ytest, ypred))\n",
    "print('Mean Squared Error:', metrics.mean_squared_error(ytest, ypred))\n",
    "print('Root Mean Squared Error:', np.sqrt(metrics.mean_squared_error(ytest, ypred)))"
   ]
  },
  {
   "cell_type": "markdown",
   "id": "55973ea9",
   "metadata": {},
   "source": [
    "For the modeling part, we used LinearRegression, DecisionTree Regressor, RandomForest Regressor. From all these models RandomForestRegressor perform well as compared to the other models. So it is selected for model creation."
   ]
  },
  {
   "cell_type": "code",
   "execution_count": 52,
   "id": "6109820a",
   "metadata": {},
   "outputs": [
    {
     "data": {
      "text/plain": [
       "['model.pkl']"
      ]
     },
     "execution_count": 52,
     "metadata": {},
     "output_type": "execute_result"
    }
   ],
   "source": [
    "import joblib \n",
    "\n",
    "joblib.dump(model,'model.pkl')"
   ]
  }
 ],
 "metadata": {
  "kernelspec": {
   "display_name": "Python 3 (ipykernel)",
   "language": "python",
   "name": "python3"
  },
  "language_info": {
   "codemirror_mode": {
    "name": "ipython",
    "version": 3
   },
   "file_extension": ".py",
   "mimetype": "text/x-python",
   "name": "python",
   "nbconvert_exporter": "python",
   "pygments_lexer": "ipython3",
   "version": "3.9.13"
  }
 },
 "nbformat": 4,
 "nbformat_minor": 5
}
